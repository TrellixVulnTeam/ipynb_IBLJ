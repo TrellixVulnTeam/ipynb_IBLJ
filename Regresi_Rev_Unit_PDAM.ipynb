{
 "cells": [
  {
   "cell_type": "code",
   "execution_count": 1,
   "metadata": {
    "id": "Rp6oIyBI7Uw7"
   },
   "outputs": [],
   "source": [
    "import pandas as pd\n",
    "import numpy as np\n",
    "import matplotlib.pyplot as plt"
   ]
  },
  {
   "cell_type": "code",
   "execution_count": 2,
   "metadata": {
    "id": "WWudR9RS7reg"
   },
   "outputs": [],
   "source": [
    "df = pd.read_csv(\"dataset.csv\")"
   ]
  },
  {
   "cell_type": "code",
   "execution_count": 3,
   "metadata": {
    "colab": {
     "base_uri": "https://localhost:8080/",
     "height": 225
    },
    "id": "zZjU-9AC7wM2",
    "outputId": "e6f035fd-40df-4107-f910-613ca2eb231c"
   },
   "outputs": [
    {
     "data": {
      "text/html": [
       "<div>\n",
       "<style scoped>\n",
       "    .dataframe tbody tr th:only-of-type {\n",
       "        vertical-align: middle;\n",
       "    }\n",
       "\n",
       "    .dataframe tbody tr th {\n",
       "        vertical-align: top;\n",
       "    }\n",
       "\n",
       "    .dataframe thead th {\n",
       "        text-align: right;\n",
       "    }\n",
       "</style>\n",
       "<table border=\"1\" class=\"dataframe\">\n",
       "  <thead>\n",
       "    <tr style=\"text-align: right;\">\n",
       "      <th></th>\n",
       "      <th>Unit</th>\n",
       "      <th>2017_01</th>\n",
       "      <th>2017_01.1</th>\n",
       "      <th>2017_01.2</th>\n",
       "      <th>2017_01.3</th>\n",
       "      <th>2017_02</th>\n",
       "      <th>2017_02.1</th>\n",
       "      <th>2017_02.2</th>\n",
       "      <th>2017_02.3</th>\n",
       "      <th>2017_03</th>\n",
       "      <th>...</th>\n",
       "      <th>2017_10.3</th>\n",
       "      <th>2017_11</th>\n",
       "      <th>2017_11.1</th>\n",
       "      <th>2017_11.2</th>\n",
       "      <th>2017_11.3</th>\n",
       "      <th>2017_12</th>\n",
       "      <th>2017_12.1</th>\n",
       "      <th>2017_12.2</th>\n",
       "      <th>2017_12.3</th>\n",
       "      <th>Revenue</th>\n",
       "    </tr>\n",
       "  </thead>\n",
       "  <tbody>\n",
       "    <tr>\n",
       "      <th>0</th>\n",
       "      <td>1</td>\n",
       "      <td>15.883556</td>\n",
       "      <td>8530</td>\n",
       "      <td>1091</td>\n",
       "      <td>1741</td>\n",
       "      <td>16.992897</td>\n",
       "      <td>8549</td>\n",
       "      <td>1085</td>\n",
       "      <td>1728</td>\n",
       "      <td>14.241664</td>\n",
       "      <td>...</td>\n",
       "      <td>1890</td>\n",
       "      <td>16.071489</td>\n",
       "      <td>8665</td>\n",
       "      <td>759</td>\n",
       "      <td>1938</td>\n",
       "      <td>15.178086</td>\n",
       "      <td>8614</td>\n",
       "      <td>766</td>\n",
       "      <td>1982</td>\n",
       "      <td>1033510000</td>\n",
       "    </tr>\n",
       "    <tr>\n",
       "      <th>1</th>\n",
       "      <td>2</td>\n",
       "      <td>19.107819</td>\n",
       "      <td>11263</td>\n",
       "      <td>1007</td>\n",
       "      <td>1258</td>\n",
       "      <td>18.326892</td>\n",
       "      <td>11265</td>\n",
       "      <td>1004</td>\n",
       "      <td>1259</td>\n",
       "      <td>17.253595</td>\n",
       "      <td>...</td>\n",
       "      <td>1286</td>\n",
       "      <td>19.486698</td>\n",
       "      <td>11596</td>\n",
       "      <td>748</td>\n",
       "      <td>1184</td>\n",
       "      <td>18.797653</td>\n",
       "      <td>11568</td>\n",
       "      <td>748</td>\n",
       "      <td>1212</td>\n",
       "      <td>1406420000</td>\n",
       "    </tr>\n",
       "    <tr>\n",
       "      <th>2</th>\n",
       "      <td>3</td>\n",
       "      <td>14.831719</td>\n",
       "      <td>6537</td>\n",
       "      <td>1370</td>\n",
       "      <td>998</td>\n",
       "      <td>14.317025</td>\n",
       "      <td>6497</td>\n",
       "      <td>1322</td>\n",
       "      <td>1086</td>\n",
       "      <td>13.618379</td>\n",
       "      <td>...</td>\n",
       "      <td>1148</td>\n",
       "      <td>15.776422</td>\n",
       "      <td>6682</td>\n",
       "      <td>957</td>\n",
       "      <td>1266</td>\n",
       "      <td>15.112772</td>\n",
       "      <td>6624</td>\n",
       "      <td>942</td>\n",
       "      <td>1339</td>\n",
       "      <td>817470000</td>\n",
       "    </tr>\n",
       "    <tr>\n",
       "      <th>3</th>\n",
       "      <td>4</td>\n",
       "      <td>14.689141</td>\n",
       "      <td>1090</td>\n",
       "      <td>138</td>\n",
       "      <td>319</td>\n",
       "      <td>14.236506</td>\n",
       "      <td>1081</td>\n",
       "      <td>139</td>\n",
       "      <td>327</td>\n",
       "      <td>12.937233</td>\n",
       "      <td>...</td>\n",
       "      <td>361</td>\n",
       "      <td>13.737518</td>\n",
       "      <td>1044</td>\n",
       "      <td>145</td>\n",
       "      <td>358</td>\n",
       "      <td>13.765211</td>\n",
       "      <td>1019</td>\n",
       "      <td>150</td>\n",
       "      <td>378</td>\n",
       "      <td>119130000</td>\n",
       "    </tr>\n",
       "    <tr>\n",
       "      <th>4</th>\n",
       "      <td>5</td>\n",
       "      <td>10.259615</td>\n",
       "      <td>1500</td>\n",
       "      <td>55</td>\n",
       "      <td>164</td>\n",
       "      <td>10.253614</td>\n",
       "      <td>1495</td>\n",
       "      <td>59</td>\n",
       "      <td>165</td>\n",
       "      <td>10.188065</td>\n",
       "      <td>...</td>\n",
       "      <td>176</td>\n",
       "      <td>10.753049</td>\n",
       "      <td>1462</td>\n",
       "      <td>79</td>\n",
       "      <td>178</td>\n",
       "      <td>10.742230</td>\n",
       "      <td>1464</td>\n",
       "      <td>78</td>\n",
       "      <td>177</td>\n",
       "      <td>165090000</td>\n",
       "    </tr>\n",
       "  </tbody>\n",
       "</table>\n",
       "<p>5 rows × 50 columns</p>\n",
       "</div>"
      ],
      "text/plain": [
       "   Unit    2017_01  2017_01.1  2017_01.2  2017_01.3    2017_02  2017_02.1  \\\n",
       "0     1  15.883556       8530       1091       1741  16.992897       8549   \n",
       "1     2  19.107819      11263       1007       1258  18.326892      11265   \n",
       "2     3  14.831719       6537       1370        998  14.317025       6497   \n",
       "3     4  14.689141       1090        138        319  14.236506       1081   \n",
       "4     5  10.259615       1500         55        164  10.253614       1495   \n",
       "\n",
       "   2017_02.2  2017_02.3    2017_03  ...  2017_10.3    2017_11  2017_11.1  \\\n",
       "0       1085       1728  14.241664  ...       1890  16.071489       8665   \n",
       "1       1004       1259  17.253595  ...       1286  19.486698      11596   \n",
       "2       1322       1086  13.618379  ...       1148  15.776422       6682   \n",
       "3        139        327  12.937233  ...        361  13.737518       1044   \n",
       "4         59        165  10.188065  ...        176  10.753049       1462   \n",
       "\n",
       "   2017_11.2  2017_11.3    2017_12  2017_12.1  2017_12.2  2017_12.3  \\\n",
       "0        759       1938  15.178086       8614        766       1982   \n",
       "1        748       1184  18.797653      11568        748       1212   \n",
       "2        957       1266  15.112772       6624        942       1339   \n",
       "3        145        358  13.765211       1019        150        378   \n",
       "4         79        178  10.742230       1464         78        177   \n",
       "\n",
       "      Revenue  \n",
       "0  1033510000  \n",
       "1  1406420000  \n",
       "2   817470000  \n",
       "3   119130000  \n",
       "4   165090000  \n",
       "\n",
       "[5 rows x 50 columns]"
      ]
     },
     "execution_count": 3,
     "metadata": {},
     "output_type": "execute_result"
    }
   ],
   "source": [
    "df.head()"
   ]
  },
  {
   "cell_type": "markdown",
   "metadata": {
    "id": "lUQdVmrRf0RX"
   },
   "source": [
    "Preprocessing (Normalisasi MinMax Scaler lebih baik dari Standarisasi)"
   ]
  },
  {
   "cell_type": "code",
   "execution_count": 4,
   "metadata": {
    "id": "97umm97aImEz"
   },
   "outputs": [],
   "source": [
    "x = df.drop(['Unit', 'Revenue'], axis=1)\n",
    "y = df.iloc[:, -1].values\n",
    "\n",
    "# Feature Scaling\n",
    "from sklearn.preprocessing import StandardScaler\n",
    "sc_X = StandardScaler()\n",
    "sc_y = StandardScaler()\n",
    "x_ = sc_X.fit_transform(x)\n",
    "\n",
    "# Reshape data karena hanya satu fitur\n",
    "y_ = y.reshape(-1,1)\n",
    "y_ = sc_y.fit_transform(y_)"
   ]
  },
  {
   "cell_type": "code",
   "execution_count": 5,
   "metadata": {
    "id": "wv2di0uYHSZd"
   },
   "outputs": [
    {
     "name": "stdout",
     "output_type": "stream",
     "text": [
      "[[0.4378744  0.63469371 0.24215247 ... 0.64027474 0.24544863 0.95334295]\n",
      " [0.68422828 0.85296702 0.22331839 ... 0.86323496 0.23959688 0.58297258]\n",
      " [0.35750748 0.47552112 0.30470852 ... 0.49007472 0.3026658  0.64405964]\n",
      " ...\n",
      " [0.1770833  0.02579666 0.05313901 ... 0.05177749 0.04843953 0.1034151 ]\n",
      " [0.38829082 0.12682693 0.02533632 ... 0.15450223 0.013329   0.14333814]\n",
      " [0.22994929 0.07914703 0.00269058 ... 0.1015171  0.04258778 0.01250601]]\n",
      "[[0.64944499]\n",
      " [0.88841375]\n",
      " [0.5110019 ]\n",
      " [0.06349059]\n",
      " [0.09294275]\n",
      " [0.03234667]\n",
      " [0.68811216]\n",
      " [0.48834886]\n",
      " [0.13785152]\n",
      " [0.32053052]\n",
      " [0.32004349]\n",
      " [0.34957255]\n",
      " [0.90699116]\n",
      " [0.12740613]\n",
      " [0.10582326]\n",
      " [0.1757433 ]\n",
      " [0.29376981]\n",
      " [0.17405794]\n",
      " [0.21438484]\n",
      " [0.36674016]\n",
      " [0.06881582]\n",
      " [0.14735491]\n",
      " [0.27186012]\n",
      " [0.05317977]\n",
      " [0.13885761]\n",
      " [0.10443268]\n",
      " [0.65284775]\n",
      " [0.9002305 ]\n",
      " [0.51958891]\n",
      " [0.06267675]\n",
      " [0.01118033]\n",
      " [0.01255169]\n",
      " [0.7198905 ]\n",
      " [0.51525696]\n",
      " [0.17380161]\n",
      " [0.33762764]\n",
      " [0.32491374]\n",
      " [0.41558999]\n",
      " [1.        ]\n",
      " [0.13219948]\n",
      " [0.12251666]\n",
      " [0.18299099]\n",
      " [0.32632355]\n",
      " [0.18413166]\n",
      " [0.23194976]\n",
      " [0.39651914]\n",
      " [0.07515995]\n",
      " [0.15312871]\n",
      " [0.27673037]\n",
      " [0.0563967 ]\n",
      " [0.15314153]\n",
      " [0.1059322 ]\n",
      " [0.48928417]\n",
      " [0.61943774]\n",
      " [0.35038338]\n",
      " [0.04184612]\n",
      " [0.03347445]\n",
      " [0.        ]\n",
      " [0.62531126]\n",
      " [0.40230996]\n",
      " [0.19478047]\n",
      " [0.2706762 ]\n",
      " [0.24635595]\n",
      " [0.31855616]\n",
      " [0.77397416]\n",
      " [0.09826773]\n",
      " [0.11068695]\n",
      " [0.14212016]\n",
      " [0.24456486]\n",
      " [0.15406175]\n",
      " [0.14560402]\n",
      " [0.28473384]\n",
      " [0.06585085]\n",
      " [0.11430363]\n",
      " [0.22839147]\n",
      " [0.05639927]\n",
      " [0.12319562]\n",
      " [0.07786842]]\n"
     ]
    }
   ],
   "source": [
    "x = df.drop(['Unit', 'Revenue'], axis=1)\n",
    "y = df.iloc[:, -1].values \n",
    "\n",
    "from sklearn.preprocessing import MinMaxScaler\n",
    "\n",
    "# define min max scaler\n",
    "sc_X = MinMaxScaler()\n",
    "sc_y = MinMaxScaler()\n",
    "# transform data\n",
    "x = sc_X.fit_transform(x)\n",
    "\n",
    "# Reshape data karena hanya satu fitur\n",
    "y = y.reshape(-1,1)\n",
    "y = sc_y.fit_transform(y)\n",
    "print(x)\n",
    "print(y)"
   ]
  },
  {
   "cell_type": "markdown",
   "metadata": {
    "id": "tSxDt4ylf7fx"
   },
   "source": [
    "Split Data"
   ]
  },
  {
   "cell_type": "code",
   "execution_count": 6,
   "metadata": {
    "id": "qVY7e28xIkOn"
   },
   "outputs": [],
   "source": [
    "# Splitting the dataset into the Training set and Test set\n",
    "from sklearn.model_selection import train_test_split\n",
    "\n",
    "X_train, X_test, y_train, y_test = train_test_split(x, y, test_size = 0.2, random_state = 0)"
   ]
  },
  {
   "cell_type": "markdown",
   "metadata": {
    "id": "3NlOE6kkf-B9"
   },
   "source": [
    "PEMODELAN"
   ]
  },
  {
   "cell_type": "markdown",
   "metadata": {
    "id": "z0COA_s4Uv2S"
   },
   "source": [
    "Decision Tree Regression\n"
   ]
  },
  {
   "cell_type": "code",
   "execution_count": 7,
   "metadata": {
    "colab": {
     "base_uri": "https://localhost:8080/"
    },
    "id": "mkQTCoOSIuzQ",
    "outputId": "1f34969c-5137-4e93-e2fc-0aa234928f9c"
   },
   "outputs": [
    {
     "data": {
      "text/plain": [
       "DecisionTreeRegressor()"
      ]
     },
     "execution_count": 7,
     "metadata": {},
     "output_type": "execute_result"
    }
   ],
   "source": [
    "# Fitting Decision Tree Regression to the dataset\n",
    "from sklearn.tree import DecisionTreeRegressor\n",
    "regressorDT = DecisionTreeRegressor()\n",
    "regressorDT.fit(X_train, y_train)"
   ]
  },
  {
   "cell_type": "code",
   "execution_count": 8,
   "metadata": {
    "colab": {
     "base_uri": "https://localhost:8080/"
    },
    "id": "eoJy4F1-Kpq4",
    "outputId": "06c8cdb4-5e57-4d90-a2bc-923779719dd2"
   },
   "outputs": [
    {
     "name": "stdout",
     "output_type": "stream",
     "text": [
      "[0.05317977 0.61943774 0.1059322  0.22839147 0.41558999 0.14212016\n",
      " 0.1757433  0.03234667 0.22839147 0.05317977 0.10582326 0.32004349\n",
      " 0.48834886 0.32004349 0.03234667 0.14735491]\n",
      "[[1.03040000e+08]\n",
      " [9.86683788e+08]\n",
      " [1.85360000e+08]\n",
      " [3.76457309e+08]\n",
      " [6.68580000e+08]\n",
      " [2.41831188e+08]\n",
      " [2.94300000e+08]\n",
      " [7.05300000e+07]\n",
      " [3.76457309e+08]\n",
      " [1.03040000e+08]\n",
      " [1.85190000e+08]\n",
      " [5.19480000e+08]\n",
      " [7.82120000e+08]\n",
      " [5.19480000e+08]\n",
      " [7.05300000e+07]\n",
      " [2.50000000e+08]]\n"
     ]
    }
   ],
   "source": [
    "# Predicting a test data\n",
    "\n",
    "y_pred_ = regressorDT.predict(X_test)\n",
    "\n",
    "print(y_pred_)\n",
    "y_pred_1 = y_pred_.reshape(-1,1)\n",
    "print(sc_y.inverse_transform(y_pred_1))"
   ]
  },
  {
   "cell_type": "code",
   "execution_count": 9,
   "metadata": {
    "colab": {
     "base_uri": "https://localhost:8080/"
    },
    "id": "5bm6j5pnVIme",
    "outputId": "960baa6e-4ae4-43ad-afa1-525792311966"
   },
   "outputs": [
    {
     "name": "stdout",
     "output_type": "stream",
     "text": [
      "Mean absolute error: 0.21\n",
      "Residual sum of squares (MSE): 0.08\n",
      "R2-score: 0.69\n"
     ]
    }
   ],
   "source": [
    "from sklearn.metrics import r2_score\n",
    "\n",
    "print(\"Mean absolute error: %.2f\" % np.mean(np.absolute(y_pred_ - y_test)))\n",
    "print(\"Residual sum of squares (MSE): %.2f\" % np.mean((y_pred_ - y_test) ** 2))\n",
    "print(\"R2-score: %.2f\" % r2_score(y_pred_ , y_test) )"
   ]
  },
  {
   "cell_type": "markdown",
   "metadata": {
    "id": "nDJj5lfzUzTF"
   },
   "source": [
    "Random Forest Regression\n"
   ]
  },
  {
   "cell_type": "code",
   "execution_count": 10,
   "metadata": {
    "colab": {
     "base_uri": "https://localhost:8080/"
    },
    "id": "WcWC-GMrVx7S",
    "outputId": "bbcc6a47-26ef-49ef-fdf7-381a81b13e53"
   },
   "outputs": [
    {
     "name": "stderr",
     "output_type": "stream",
     "text": [
      "/tmp/ipykernel_67721/3293358574.py:4: DataConversionWarning: A column-vector y was passed when a 1d array was expected. Please change the shape of y to (n_samples,), for example using ravel().\n",
      "  regressor.fit(X_train, y_train)\n"
     ]
    },
    {
     "data": {
      "text/plain": [
       "RandomForestRegressor()"
      ]
     },
     "execution_count": 10,
     "metadata": {},
     "output_type": "execute_result"
    }
   ],
   "source": [
    "# Fitting Random Forest Regression to the dataset\n",
    "from sklearn.ensemble import RandomForestRegressor\n",
    "regressor = RandomForestRegressor(n_estimators = 100)\n",
    "regressor.fit(X_train, y_train)"
   ]
  },
  {
   "cell_type": "code",
   "execution_count": 11,
   "metadata": {
    "id": "p3_rHhqyW58z"
   },
   "outputs": [],
   "source": [
    "# Predicting a test result\n",
    "\n",
    "y_pred_ = regressor.predict(X_test)"
   ]
  },
  {
   "cell_type": "code",
   "execution_count": 12,
   "metadata": {
    "colab": {
     "base_uri": "https://localhost:8080/"
    },
    "id": "zDGGOsY5W8vM",
    "outputId": "1302e83a-7831-4b62-c3de-9b833e481301"
   },
   "outputs": [
    {
     "name": "stdout",
     "output_type": "stream",
     "text": [
      "Mean absolute error: 0.21\n",
      "Residual sum of squares (MSE): 0.08\n",
      "R2-score: 0.88\n"
     ]
    }
   ],
   "source": [
    "from sklearn.metrics import r2_score\n",
    "\n",
    "print(\"Mean absolute error: %.2f\" % np.mean(np.absolute(y_pred_ - y_test)))\n",
    "print(\"Residual sum of squares (MSE): %.2f\" % np.mean((y_pred_ - y_test) ** 2))\n",
    "print(\"R2-score: %.2f\" % r2_score(y_pred_ , y_test) )"
   ]
  },
  {
   "cell_type": "markdown",
   "metadata": {
    "id": "fqWciaDmW_sc"
   },
   "source": [
    "Regresi Linear Variabel Jamak"
   ]
  },
  {
   "cell_type": "code",
   "execution_count": 13,
   "metadata": {
    "colab": {
     "base_uri": "https://localhost:8080/"
    },
    "id": "Sz6iS8vCXgJz",
    "outputId": "5ed92088-522d-4b3f-eaba-da3f75422f22"
   },
   "outputs": [
    {
     "name": "stdout",
     "output_type": "stream",
     "text": [
      "Coefficients:  [[-1.08533588e-01 -9.76181189e-02  2.22138469e-01 -9.53853394e-01\n",
      "   1.66762421e-02  9.55043332e-02 -8.50748139e-01  2.01724177e-01\n",
      "  -3.35649218e-02 -1.56530211e+00  3.93059906e+00  2.31884092e-01\n",
      "   1.56838230e-01  5.17534834e+00 -6.78836619e+00 -2.14897216e-01\n",
      "  -2.88843021e-02 -1.28931874e+00  3.70962482e+00 -9.59094915e-01\n",
      "  -2.34263344e-01 -6.23230405e-01  1.07014762e+00  6.07121744e-01\n",
      "   1.88155563e-01 -8.63432327e-02 -5.65493820e-01  5.75574371e-01\n",
      "   1.01395292e-01 -1.08804767e-02 -5.48672553e-01  1.11000917e-02\n",
      "  -1.42222208e-01 -2.13122112e-01  4.24723656e-03  2.88850667e-01\n",
      "  -2.82365595e-02 -1.88920348e-01  2.60304142e-01 -2.46936826e-01\n",
      "   1.92050167e-01 -5.72037427e-01  8.65095711e-01  1.33547038e+00\n",
      "  -7.06535392e-02  2.39542861e-01 -1.17266560e+00 -8.35645414e-01]]\n",
      "Intercept:  [-0.01837985]\n"
     ]
    }
   ],
   "source": [
    "from sklearn import linear_model\n",
    "regr = linear_model.LinearRegression()\n",
    "\n",
    "regr.fit (X_train, y_train)\n",
    "# The coefficients\n",
    "print ('Coefficients: ', regr.coef_)\n",
    "print ('Intercept: ',regr.intercept_)"
   ]
  },
  {
   "cell_type": "code",
   "execution_count": 14,
   "metadata": {
    "id": "ymzQMpLds5PM"
   },
   "outputs": [],
   "source": [
    "# Predicting a test data\n",
    "y_pred_ = regr.predict(X_test)"
   ]
  },
  {
   "cell_type": "code",
   "execution_count": 15,
   "metadata": {
    "colab": {
     "base_uri": "https://localhost:8080/"
    },
    "id": "MYlUK57KZef0",
    "outputId": "65916efe-f006-4c11-d136-d11d4eefd41b"
   },
   "outputs": [
    {
     "name": "stdout",
     "output_type": "stream",
     "text": [
      "Mean absolute error: 0.06\n",
      "Residual sum of squares (MSE): 0.01\n",
      "R2-score: 0.91\n"
     ]
    }
   ],
   "source": [
    "from sklearn.metrics import r2_score\n",
    "print(\"Mean absolute error: %.2f\" % np.mean(np.absolute(y_pred_ - y_test)))\n",
    "print(\"Residual sum of squares (MSE): %.2f\" % np.mean((y_pred_ - y_test) ** 2))\n",
    "print(\"R2-score: %.2f\" % r2_score(y_pred_ , y_test) )"
   ]
  },
  {
   "cell_type": "markdown",
   "metadata": {
    "id": "vkPVmxY5Z_IF"
   },
   "source": [
    "Super Vector Reggression"
   ]
  },
  {
   "cell_type": "code",
   "execution_count": 16,
   "metadata": {
    "colab": {
     "base_uri": "https://localhost:8080/"
    },
    "id": "rbTL2vzacLYT",
    "outputId": "36f11529-c5b4-4c45-e04e-b5bfbc90389e"
   },
   "outputs": [
    {
     "name": "stderr",
     "output_type": "stream",
     "text": [
      "/home/budosen/Downloads/voila/venv/lib/python3.8/site-packages/sklearn/utils/validation.py:985: DataConversionWarning: A column-vector y was passed when a 1d array was expected. Please change the shape of y to (n_samples, ), for example using ravel().\n",
      "  y = column_or_1d(y, warn=True)\n"
     ]
    },
    {
     "data": {
      "text/plain": [
       "SVR(kernel='linear')"
      ]
     },
     "execution_count": 16,
     "metadata": {},
     "output_type": "execute_result"
    }
   ],
   "source": [
    "# Fitting SVR to the dataset\n",
    "from sklearn.svm import SVR\n",
    "regressor_ = SVR(kernel = 'linear')\n",
    "#linear = Linear Kernel\n",
    "regressor_.fit(X_train, y_train)"
   ]
  },
  {
   "cell_type": "code",
   "execution_count": 17,
   "metadata": {
    "id": "qZnAuVP4tAEO"
   },
   "outputs": [
    {
     "name": "stdout",
     "output_type": "stream",
     "text": [
      "[[ 8.67721078e+06]\n",
      " [ 1.16554705e+09]\n",
      " [ 2.01992768e+07]\n",
      " [ 5.90585684e+08]\n",
      " [ 5.21966223e+08]\n",
      " [ 2.37376147e+08]\n",
      " [ 2.21994319e+08]\n",
      " [-8.82356066e+07]\n",
      " [ 3.36862479e+08]\n",
      " [-6.10396965e+07]\n",
      " [ 1.64661992e+08]\n",
      " [ 3.53091016e+08]\n",
      " [ 7.70735913e+08]\n",
      " [ 2.66711276e+08]\n",
      " [ 4.02660099e+07]\n",
      " [ 3.41316543e+08]]\n"
     ]
    }
   ],
   "source": [
    "# Predicting a test data\n",
    "\n",
    "y_pred_ = regressor_.predict(X_test)\n",
    "y_pred_1 = y_pred_.reshape(-1,1)\n",
    "y_invers = sc_y.inverse_transform(y_pred_1) #untuk invers hasil prediksi ke bentuk asli\n",
    "print(y_invers)"
   ]
  },
  {
   "cell_type": "code",
   "execution_count": 18,
   "metadata": {
    "colab": {
     "base_uri": "https://localhost:8080/"
    },
    "id": "KvTzNqYEcQzz",
    "outputId": "e038cb64-8ce1-4998-e0ea-1f82f58a30d8"
   },
   "outputs": [
    {
     "name": "stdout",
     "output_type": "stream",
     "text": [
      "Mean absolute error: 0.23\n",
      "Residual sum of squares (MSE): 0.09\n",
      "R2-score: 0.90\n"
     ]
    }
   ],
   "source": [
    "from sklearn.metrics import r2_score\n",
    "\n",
    "print(\"Mean absolute error: %.2f\" % np.mean(np.absolute(y_pred_ - y_test)))\n",
    "print(\"Residual sum of squares (MSE): %.2f\" % np.mean((y_pred_ - y_test) ** 2))\n",
    "print(\"R2-score: %.2f\" % r2_score(y_pred_ , y_test) )"
   ]
  },
  {
   "cell_type": "markdown",
   "metadata": {
    "id": "x3BxVMROtCjY"
   },
   "source": [
    "SAVE MODEL"
   ]
  },
  {
   "cell_type": "code",
   "execution_count": 19,
   "metadata": {
    "id": "8QqsRe6JtDmj"
   },
   "outputs": [],
   "source": [
    "import pickle\n",
    "# Save the Modle to file in the current working directory\n",
    "\n",
    "Pkl_Filename = \"model_regresi_linear2.pkl\"  \n",
    "\n",
    "with open(Pkl_Filename, 'wb') as file:  \n",
    "    pickle.dump(regr, file)"
   ]
  },
  {
   "cell_type": "code",
   "execution_count": 20,
   "metadata": {
    "colab": {
     "base_uri": "https://localhost:8080/"
    },
    "id": "s8cCUqJ2Brty",
    "outputId": "80bd381e-a74f-4bac-f096-6d7a858267d1"
   },
   "outputs": [
    {
     "data": {
      "text/plain": [
       "LinearRegression()"
      ]
     },
     "execution_count": 20,
     "metadata": {},
     "output_type": "execute_result"
    }
   ],
   "source": [
    "# Load the Model back from file\n",
    "with open(Pkl_Filename, 'rb') as file:  \n",
    "    Pickled_LR_Model = pickle.load(file)\n",
    "\n",
    "Pickled_LR_Model"
   ]
  },
  {
   "cell_type": "code",
   "execution_count": 21,
   "metadata": {
    "colab": {
     "base_uri": "https://localhost:8080/"
    },
    "id": "wuzR9Os0BxYn",
    "outputId": "4ebfb67c-b2d0-41a3-9c56-b8e971f8a6f6"
   },
   "outputs": [
    {
     "name": "stdout",
     "output_type": "stream",
     "text": [
      "Test score: 89.18 %\n",
      "[[ 2.96673729e+08]\n",
      " [ 1.47936824e+09]\n",
      " [ 2.15851681e+08]\n",
      " [ 5.09628611e+08]\n",
      " [ 6.30522596e+08]\n",
      " [ 2.82652326e+08]\n",
      " [ 6.74458448e+07]\n",
      " [-6.80681940e+07]\n",
      " [ 4.34237787e+08]\n",
      " [ 1.00813717e+08]\n",
      " [ 2.08316274e+08]\n",
      " [ 4.07681276e+08]\n",
      " [ 9.92950531e+08]\n",
      " [ 2.82894860e+08]\n",
      " [-1.46430099e+08]\n",
      " [ 3.69773046e+08]]\n"
     ]
    }
   ],
   "source": [
    "# Use the Reloaded Model to \n",
    "# Calculate the accuracy score and predict target values\n",
    "\n",
    "# Calculate the Score \n",
    "score = Pickled_LR_Model.score(X_test, y_test)  \n",
    "# Print the Score\n",
    "print(\"Test score: {0:.2f} %\".format(100 * score))  \n",
    "\n",
    "#********\n",
    "#jika menggunakan data baru (X_test), maka perlu dinormalisasi dahulu X nya\n",
    "#from sklearn.preprocessing import MinMaxScaler\n",
    "\n",
    "#sc_X = MinMaxScaler()\n",
    "#sc_y = MinMaxScaler()\n",
    "#X_test = sc_X.fit_transform(X_test)\n",
    "#*********\n",
    "\n",
    "\n",
    "# Predict the Labels using the reloaded Model\n",
    "Ypredict = Pickled_LR_Model.predict(X_test)  \n",
    "\n",
    "y_invers = sc_y.inverse_transform(Ypredict) #untuk invers hasil prediksi ke bentuk asli\n",
    "print(y_invers)\n"
   ]
  }
 ],
 "metadata": {
  "colab": {
   "collapsed_sections": [],
   "name": "Regresi Rev Unit PDAM.ipynb",
   "provenance": []
  },
  "kernelspec": {
   "display_name": "Python 3 (ipykernel)",
   "language": "python",
   "name": "python3"
  },
  "language_info": {
   "codemirror_mode": {
    "name": "ipython",
    "version": 3
   },
   "file_extension": ".py",
   "mimetype": "text/x-python",
   "name": "python",
   "nbconvert_exporter": "python",
   "pygments_lexer": "ipython3",
   "version": "3.8.10"
  }
 },
 "nbformat": 4,
 "nbformat_minor": 1
}
